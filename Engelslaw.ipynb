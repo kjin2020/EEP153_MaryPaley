{
 "cells": [
  {
   "cell_type": "code",
   "execution_count": 1,
   "metadata": {},
   "outputs": [],
   "source": [
    "import pandas as pd\n",
    "import numpy as np"
   ]
  },
  {
   "cell_type": "code",
   "execution_count": 2,
   "metadata": {},
   "outputs": [],
   "source": [
    "expdata1 = pd.read_stata(\"sec_i.dta\")\n",
    "expdata2 = pd.read_stata(\"sec_j1.dta\")"
   ]
  },
  {
   "cell_type": "code",
   "execution_count": 3,
   "metadata": {},
   "outputs": [
    {
     "data": {
      "text/plain": [
       "0.8991596638655462"
      ]
     },
     "execution_count": 3,
     "metadata": {},
     "output_type": "execute_result"
    }
   ],
   "source": [
    "expdata1 = expdata1[[\"case_id\",\"dist\",\"ea\",\"i0a\",\"i05\"]]\n",
    "expdata2 = expdata2[[\"case_id\",\"j02a\",\"j03a\"]]\n",
    "otherexp = expdata2.loc[lambda expdata2:expdata2[\"case_id\"] == \"10101002025\",\"j03a\"].sum()\n",
    "foodexp = expdata1.loc[lambda expdata1:expdata1[\"case_id\"] == \"10101002025\",\"i05\"].sum()\n",
    "totexp = foodexp + otherexp\n",
    "engelcoefficient = foodexp/totexp\n",
    "engelcoefficient"
   ]
  }
 ],
 "metadata": {
  "kernelspec": {
   "display_name": "Python 3",
   "language": "python",
   "name": "python3"
  },
  "language_info": {
   "codemirror_mode": {
    "name": "ipython",
    "version": 3
   },
   "file_extension": ".py",
   "mimetype": "text/x-python",
   "name": "python",
   "nbconvert_exporter": "python",
   "pygments_lexer": "ipython3",
   "version": "3.6.9"
  }
 },
 "nbformat": 4,
 "nbformat_minor": 4
}
